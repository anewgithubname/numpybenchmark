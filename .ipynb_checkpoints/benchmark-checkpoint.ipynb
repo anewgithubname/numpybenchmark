{
 "cells": [
  {
   "cell_type": "code",
   "execution_count": 19,
   "metadata": {
    "tags": []
   },
   "outputs": [
    {
     "name": "stdout",
     "output_type": "stream",
     "text": [
      "Requirement already satisfied: progressbar in /Users/song/miniconda3/lib/python3.7/site-packages (2.5)\n",
      "Requirement already satisfied: py-cpuinfo in /Users/song/miniconda3/lib/python3.7/site-packages (7.0.0)\n"
     ]
    }
   ],
   "source": [
    "import sys\n",
    "!{sys.executable} -m pip install progressbar\n",
    "!{sys.executable} -m pip install py-cpuinfo"
   ]
  },
  {
   "cell_type": "code",
   "execution_count": 25,
   "metadata": {},
   "outputs": [],
   "source": [
    "import numpy as np\n",
    "import numpy.random as rnd\n",
    "import matplotlib.pyplot as plt\n",
    "from scipy.linalg import *\n",
    "from scipy.fft import fft\n",
    "import time\n",
    "import progressbar\n",
    "import cpuinfo"
   ]
  },
  {
   "cell_type": "code",
   "execution_count": 21,
   "metadata": {
    "tags": []
   },
   "outputs": [],
   "source": [
    "# preperation\n",
    "rnd.seed(1)\n",
    "t_list = []\n",
    "inv_list = []\n",
    "fft_list = []\n",
    "eig_list = []"
   ]
  },
  {
   "cell_type": "code",
   "execution_count": 22,
   "metadata": {
    "tags": []
   },
   "outputs": [
    {
     "name": "stderr",
     "output_type": "stream",
     "text": [
      "[========================================================================] 100%\n"
     ]
    },
    {
     "name": "stdout",
     "output_type": "stream",
     "text": [
      "average loop time: 0.196\n"
     ]
    }
   ],
   "source": [
    "bar = progressbar.ProgressBar(maxval=100, \\\n",
    "    widgets=[progressbar.Bar('=', '[', ']'), ' ', progressbar.Percentage()])\n",
    "bar.start() \n",
    "# testing loop starts.\n",
    "for i in range(100):\n",
    "    start = time.perf_counter()\n",
    "    A = rnd.randn(500,5000)\n",
    "    # eigenvalue \n",
    "    largest_eig = np.flip(np.sort(eigvals(A.dot(A.T))))[0]\n",
    "    eig_list.append(largest_eig)\n",
    "    # inversion\n",
    "    invA = inv(A.dot(A.T))\n",
    "    inv_list.append(invA)\n",
    "    # fft\n",
    "    fft_list.append(fft(A.dot(A.T)))\n",
    "    \n",
    "    # timing\n",
    "    timer = time.perf_counter()-start\n",
    "    t_list.append(timer)\n",
    "    bar.update(i+1)\n",
    "\n",
    "bar.finish()\n",
    "print('average loop time: %1.3f' % np.mean(t_list))"
   ]
  },
  {
   "cell_type": "code",
   "execution_count": 26,
   "metadata": {},
   "outputs": [],
   "source": [
    "# write results\n",
    "f=open('benchmark.csv','a')\n",
    "perf = \"%s, %1.3f\\n\" % (cpuinfo.get_cpu_info()['brand_raw'],np.mean(t_list))\n",
    "f.write(perf)\n",
    "f.close()"
   ]
  }
 ],
 "metadata": {
  "kernelspec": {
   "display_name": "Python 3",
   "language": "python",
   "name": "python3"
  },
  "language_info": {
   "codemirror_mode": {
    "name": "ipython",
    "version": 3
   },
   "file_extension": ".py",
   "mimetype": "text/x-python",
   "name": "python",
   "nbconvert_exporter": "python",
   "pygments_lexer": "ipython3",
   "version": "3.7.7"
  }
 },
 "nbformat": 4,
 "nbformat_minor": 4
}
