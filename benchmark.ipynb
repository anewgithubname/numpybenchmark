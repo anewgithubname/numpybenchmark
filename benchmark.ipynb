{
 "cells": [
  {
   "cell_type": "code",
   "execution_count": null,
   "metadata": {},
   "outputs": [],
   "source": [
    "import numpy as np\n",
    "import numpy.random as rnd\n",
    "import matplotlib.pyplot as plt\n",
    "from scipy.linalg import *\n",
    "from scipy.fft import fft\n",
    "import time"
   ]
  },
  {
   "cell_type": "code",
   "execution_count": null,
   "metadata": {
    "tags": []
   },
   "outputs": [],
   "source": [
    "# preperation\n",
    "rnd.seed(1)\n",
    "t_list = []\n",
    "inv_list = []\n",
    "fft_list = []\n",
    "eig_list = []"
   ]
  },
  {
   "cell_type": "code",
   "execution_count": null,
   "metadata": {
    "tags": []
   },
   "outputs": [],
   "source": [
    "# testing loop starts.\n",
    "for i in range(100):\n",
    "    start = time.perf_counter()\n",
    "    A = rnd.randn(500,5000)\n",
    "    # eigenvalue \n",
    "    largest_eig = np.flip(np.sort(eigvals(A.dot(A.T))))[0]\n",
    "    eig_list.append(largest_eig)\n",
    "    # inversion\n",
    "    invA = inv(A.dot(A.T))\n",
    "    inv_list.append(invA)\n",
    "    # fft\n",
    "    fft_list.append(fft(A.dot(A.T)))\n",
    "    \n",
    "    # timing\n",
    "    timer = time.perf_counter()-start\n",
    "    t_list.append(timer)\n",
    "\n",
    "    if i%5 == 0:\n",
    "        print('.', end='')\n",
    "\n",
    "print('\\naverage loop time: %1.3f' % np.mean(t_list))"
   ]
  },
  {
   "cell_type": "code",
   "execution_count": null,
   "metadata": {
    "tags": []
   },
   "outputs": [],
   "source": [
    "import platform\n",
    "\n",
    "# write results\n",
    "f=open('benchmark.csv','a')\n",
    "perf = \"%s, %1.3f\\n\" % (platform.processor(),np.mean(t_list))\n",
    "print(perf)\n",
    "f.write(perf)\n",
    "f.close()"
   ]
  }
 ],
 "metadata": {
  "kernelspec": {
   "display_name": "Python 3",
   "language": "python",
   "name": "python3"
  },
  "language_info": {
   "codemirror_mode": {
    "name": "ipython",
    "version": 3
   },
   "file_extension": ".py",
   "mimetype": "text/x-python",
   "name": "python",
   "nbconvert_exporter": "python",
   "pygments_lexer": "ipython3",
   "version": "3.8.3-final"
  }
 },
 "nbformat": 4,
 "nbformat_minor": 4
}